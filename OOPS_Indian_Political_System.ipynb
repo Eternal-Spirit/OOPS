{
  "nbformat": 4,
  "nbformat_minor": 0,
  "metadata": {
    "colab": {
      "provenance": [],
      "authorship_tag": "ABX9TyPr/6wf2uOlKtUAeoi91wwA",
      "include_colab_link": true
    },
    "kernelspec": {
      "name": "python3",
      "display_name": "Python 3"
    },
    "language_info": {
      "name": "python"
    }
  },
  "cells": [
    {
      "cell_type": "markdown",
      "metadata": {
        "id": "view-in-github",
        "colab_type": "text"
      },
      "source": [
        "<a href=\"https://colab.research.google.com/github/Eternal-Spirit/OOPS/blob/main/OOPS_Indian_Political_System.ipynb\" target=\"_parent\"><img src=\"https://colab.research.google.com/assets/colab-badge.svg\" alt=\"Open In Colab\"/></a>"
      ]
    },
    {
      "cell_type": "code",
      "execution_count": 4,
      "metadata": {
        "colab": {
          "base_uri": "https://localhost:8080/"
        },
        "id": "Z6zXC19_8Pi-",
        "outputId": "79f0bd1f-f6f2-4e6e-ef50-52bd18f9c827"
      },
      "outputs": [
        {
          "output_type": "stream",
          "name": "stdout",
          "text": [
            "The name of the country is : India\n",
            "The total number of states in India is : 28\n",
            "The name of the country is : India\n",
            "The total number of states in India is : 28\n",
            "The name of the state is : Punjab\n",
            "The number of constituencies in Punjab is : 5\n",
            "\n",
            "Decoded Candidate Data:\n",
            "ID:1,Name:Rahul,Party:PartyA,Age:45,Incumbent:True,VoteShare:0.0\n",
            "ID:2,Name:Simran,Party:PartyB,Age:38,Incumbent:False,VoteShare:0.0\n",
            "ID:3,Name:Aman,Party:PartyC,Age:50,Incumbent:True,VoteShare:0.0\n",
            "\n",
            "Final Results (Total Votes):\n",
            "Rahul (PartyA) - Total Votes: 590\n",
            "Simran (PartyB) - Total Votes: 600\n",
            "Aman (PartyC) - Total Votes: 580\n",
            "\n",
            "Winner: Simran from PartyB with 600 votes\n"
          ]
        }
      ],
      "source": [
        "class ElectionCommission:\n",
        "    def __init__(self, country, total_states):\n",
        "        self.country = country\n",
        "        self.total_states = total_states\n",
        "\n",
        "    def display_info(self):\n",
        "        print(f\"The name of the country is : {self.country}\")\n",
        "        print(f\"The total number of states in {self.country} is : {self.total_states}\")\n",
        "\n",
        "\n",
        "class StateElectionCommission(ElectionCommission):\n",
        "    def __init__(self, country, total_states, state_name, num_constituencies):\n",
        "        super().__init__(country, total_states)\n",
        "        self.state_name = state_name\n",
        "        self.num_constituencies = num_constituencies\n",
        "\n",
        "    def display_state_info(self):\n",
        "        super().display_info()\n",
        "        print(f\"The name of the state is : {self.state_name}\")\n",
        "        print(f\"The number of constituencies in {self.state_name} is : {self.num_constituencies}\")\n",
        "\n",
        "\n",
        "class Candidate:\n",
        "    def __init__(self, candidate_id, name, party, age, is_incumbent, vote_share):\n",
        "        self.candidate_id = candidate_id\n",
        "        self.name = name\n",
        "        self.party = party\n",
        "        self.age = age\n",
        "        self.is_incumbent = is_incumbent\n",
        "        self.vote_share = vote_share\n",
        "        self.votes = bytearray()\n",
        "\n",
        "    def encode_candidates_to_bytes(self):\n",
        "        details_string = f\"ID:{self.candidate_id},Name:{self.name},Party:{self.party},Age:{self.age},Incumbent:{self.is_incumbent},VoteShare:{self.vote_share}\"\n",
        "        return details_string.encode(\"utf-8\")\n",
        "\n",
        "    def decode_candidate_to_bytes(self):\n",
        "        details_string = self.encode_candidates_to_bytes()\n",
        "        return details_string.decode(\"utf-8\")\n",
        "\n",
        "\n",
        "def cast_votes(candidate, votes_list):\n",
        "    candidate.votes = bytearray(votes_list)\n",
        "\n",
        "\n",
        "def calculate_total_votes(candidate):\n",
        "    return sum(candidate.votes)\n",
        "\n",
        "\n",
        "def update_votes(votes_array, constituency_index, new_votes):\n",
        "    if 0 <= constituency_index < len(votes_array):\n",
        "        votes_array[constituency_index] = new_votes\n",
        "    else:\n",
        "        print(\"Invalid constituency index\")\n",
        "\n",
        "\n",
        "punjab_ec = StateElectionCommission(\"India\", 28, \"Punjab\", 5)\n",
        "punjab_ec.display_info()\n",
        "punjab_ec.display_state_info()\n",
        "\n",
        "c1 = Candidate(1, \"Rahul\", \"PartyA\", 45, True, 0.0)\n",
        "c2 = Candidate(2, \"Simran\", \"PartyB\", 38, False, 0.0)\n",
        "c3 = Candidate(3, \"Aman\", \"PartyC\", 50, True, 0.0)\n",
        "\n",
        "encoded_c1 = c1.encode_candidates_to_bytes()\n",
        "encoded_c2 = c2.encode_candidates_to_bytes()\n",
        "encoded_c3 = c3.encode_candidates_to_bytes()\n",
        "\n",
        "decoded_c1 = c1.decode_candidate_to_bytes()\n",
        "decoded_c2 = c2.decode_candidate_to_bytes()\n",
        "decoded_c3 = c3.decode_candidate_to_bytes()\n",
        "\n",
        "print(\"\\nDecoded Candidate Data:\")\n",
        "for c in [decoded_c1, decoded_c2, decoded_c3]:\n",
        "    print(c)\n",
        "\n",
        "cast_votes(c1, [120, 150, 130, 100, 90])\n",
        "cast_votes(c2, [100, 140, 120, 130, 110])\n",
        "cast_votes(c3, [90, 130, 140, 120, 100])\n",
        "\n",
        "print(\"\\nFinal Results (Total Votes):\")\n",
        "candidates = [c1, c2, c3]\n",
        "for c in candidates:\n",
        "    print(f\"{c.name} ({c.party}) - Total Votes: {calculate_total_votes(c)}\")\n",
        "\n",
        "winner = max(candidates, key=calculate_total_votes)\n",
        "print(f\"\\nWinner: {winner.name} from {winner.party} with {calculate_total_votes(winner)} votes\")\n"
      ]
    },
    {
      "cell_type": "code",
      "metadata": {
        "id": "ed527cf9"
      },
      "source": [],
      "execution_count": null,
      "outputs": []
    }
  ]
}