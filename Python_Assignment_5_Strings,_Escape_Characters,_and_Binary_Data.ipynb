{
  "nbformat": 4,
  "nbformat_minor": 0,
  "metadata": {
    "colab": {
      "provenance": [],
      "mount_file_id": "1Ek7FA4EaHDoGD-buq2LYG8EoOwTlLsf1",
      "authorship_tag": "ABX9TyNPbl2SyzV3r8ulKmXq03Ru",
      "include_colab_link": true
    },
    "kernelspec": {
      "name": "python3",
      "display_name": "Python 3"
    },
    "language_info": {
      "name": "python"
    }
  },
  "cells": [
    {
      "cell_type": "markdown",
      "metadata": {
        "id": "view-in-github",
        "colab_type": "text"
      },
      "source": [
        "<a href=\"https://colab.research.google.com/github/Eternal-Spirit/OOPS/blob/main/Python_Assignment_5_Strings%2C_Escape_Characters%2C_and_Binary_Data.ipynb\" target=\"_parent\"><img src=\"https://colab.research.google.com/assets/colab-badge.svg\" alt=\"Open In Colab\"/></a>"
      ]
    },
    {
      "cell_type": "markdown",
      "metadata": {
        "id": "23a368f4"
      },
      "source": [
        "## Real-World Applications of Escape Characters and Binary Data Handling\n",
        "\n",
        "- **Escape characters** are vital in text formats and protocols to differentiate literal text from control characters or special symbols, ensuring correct data interpretation.\n",
        "- **Binary data handling** is critical for non-textual data (images, audio, etc.) and low-level operations. It's used in:\n",
        "    - **Networking:** Exchanging raw bytes in protocols.\n",
        "    - **File Formats:** Parsing and writing file headers and content (like PNG, WAV).\n",
        "    - **Protocols:** Implementing custom communication protocols that operate on byte streams."
      ]
    },
    {
      "cell_type": "code",
      "execution_count": 37,
      "metadata": {
        "colab": {
          "base_uri": "https://localhost:8080/"
        },
        "id": "j1gyVsN5HqgE",
        "outputId": "244f840a-f746-4a77-d664-edf7183df56f"
      },
      "outputs": [
        {
          "output_type": "stream",
          "name": "stdout",
          "text": [
            "Line1\n",
            "Line2\tTabbed\\Backslash SpaceHere@Symbol\n"
          ]
        }
      ],
      "source": [
        "s = \"Line1\\nLine2\\tTabbed\\\\Backslash\\040SpaceHere\\x40Symbol\"\n",
        "print(s)"
      ]
    },
    {
      "cell_type": "code",
      "source": [
        "print(\"ID\\tName\\tCountry\\n1\\tAlice\\tUSA\\n2\\tBob\\tIndia\\n3\\tCharlie\\tUK\\n4\\tDiana\\tCanada\")\n"
      ],
      "metadata": {
        "colab": {
          "base_uri": "https://localhost:8080/"
        },
        "id": "oSz0D4r0J2Gi",
        "outputId": "979522bf-d733-4712-b0d0-bde7772106bd"
      },
      "execution_count": 26,
      "outputs": [
        {
          "output_type": "stream",
          "name": "stdout",
          "text": [
            "ID\tName\tCountry\n",
            "1\tAlice\tUSA\n",
            "2\tBob\tIndia\n",
            "3\tCharlie\tUK\n",
            "4\tDiana\tCanada\n"
          ]
        }
      ]
    },
    {
      "cell_type": "code",
      "source": [
        "def translate(s):\n",
        "    for i in s:\n",
        "      c=ord(i)\n",
        "      print(f\"\\\\x{c:02x}\", end=\"\")\n",
        "    print()\n",
        "    for i in s:\n",
        "      c=ord(i)\n",
        "      print(f\"\\\\x{c:03o}\", end=\"\")\n",
        "\n",
        "\n",
        "translate(\"Hi\")"
      ],
      "metadata": {
        "colab": {
          "base_uri": "https://localhost:8080/"
        },
        "id": "5KJOGsCIKUMG",
        "outputId": "1510b1d5-bc77-4424-b361-5c93a1096d15"
      },
      "execution_count": 27,
      "outputs": [
        {
          "output_type": "stream",
          "name": "stdout",
          "text": [
            "\\x48\\x69\n",
            "\\x110\\x151"
          ]
        }
      ]
    },
    {
      "cell_type": "code",
      "source": [
        "packet = \"\\x02\\x10\\xff\"\n",
        "s=len(packet)\n",
        "print(s)\n",
        "packet_bytes = packet.encode(\"latin1\")\n",
        "print(packet_bytes)\n",
        "print(\"Decimal  Hex    Binary\")\n",
        "for b in packet_bytes:\n",
        "    print(f\"{b:<7} {hex(b):<7} {bin(b)[2:].zfill(8)}\")"
      ],
      "metadata": {
        "colab": {
          "base_uri": "https://localhost:8080/"
        },
        "id": "rWm7MOSQOd_y",
        "outputId": "2a6b7405-9aee-4596-d35f-e048f2e34633"
      },
      "execution_count": 28,
      "outputs": [
        {
          "output_type": "stream",
          "name": "stdout",
          "text": [
            "3\n",
            "b'\\x02\\x10\\xff'\n",
            "Decimal  Hex    Binary\n",
            "2       0x2     00000010\n",
            "16      0x10    00010000\n",
            "255     0xff    11111111\n"
          ]
        }
      ]
    },
    {
      "cell_type": "code",
      "source": [
        "s=input()\n",
        "new_s=\"\\x02\"+s+\"\\x03\"\n",
        "def read_packet(data):\n",
        "  if data[0] == \"\\x02\" and data[-1] == \"\\x03\":\n",
        "    print(f\"Valid packet:{data[1:-1]}\")\n",
        "  else:\n",
        "    print(f\"Invalid packet\")\n",
        "\n",
        "read_packet(new_s)\n",
        "read_packet(\"hello\")\n",
        "read_packet(\"\\x02hihi\\x03\")"
      ],
      "metadata": {
        "colab": {
          "base_uri": "https://localhost:8080/"
        },
        "id": "UoNrfCAEVmJ-",
        "outputId": "ba92235b-2254-4e9c-8f73-ee7ce45e3b45"
      },
      "execution_count": 29,
      "outputs": [
        {
          "output_type": "stream",
          "name": "stdout",
          "text": [
            "hello\n",
            "Valid packet:hello\n",
            "Invalid packet\n",
            "Valid packet:hihi\n"
          ]
        }
      ]
    },
    {
      "cell_type": "code",
      "source": [
        "with open(\"eyes.png\", \"rb\") as f:\n",
        "    header = f.read(8)\n",
        "\n",
        "png_signature = b'\\x89PNG\\r\\n\\x1a\\n'\n",
        "\n",
        "if header == png_signature:\n",
        "    print(\"Valid PNG file\")\n",
        "else:\n",
        "    print(\"Invalid file\")\n"
      ],
      "metadata": {
        "colab": {
          "base_uri": "https://localhost:8080/"
        },
        "id": "ta191Qi_aP0S",
        "outputId": "836f8b8c-4a17-4842-da99-012926eae669"
      },
      "execution_count": 30,
      "outputs": [
        {
          "output_type": "stream",
          "name": "stdout",
          "text": [
            "Valid PNG file\n"
          ]
        }
      ]
    },
    {
      "cell_type": "code",
      "source": [
        "def build_packet(msg):\n",
        "    START = b'\\x02'\n",
        "    END = b'\\x03'\n",
        "    length = len(msg)\n",
        "    if length > 255:\n",
        "        raise ValueError(\"Message too long for 1 byte length\")\n",
        "    LENGTH = bytes([length])\n",
        "    MESSAGE = msg.encode(\"utf-8\")\n",
        "    packet = START + LENGTH + MESSAGE + END\n",
        "    return packet\n",
        "\n",
        "def parse_packet(packet):\n",
        "    START = b'\\x02'\n",
        "    END = b'\\x03'\n",
        "    if len(packet) < 3:\n",
        "        return \"Invalid packet: too short\"\n",
        "    if packet[0:1] != START or packet[-1:] != END:\n",
        "        return \"Invalid packet: wrong start/end\"\n",
        "    length = packet[1]\n",
        "    message_bytes = packet[2:-1]\n",
        "    if length != len(message_bytes):\n",
        "        return \"Invalid packet: length mismatch\"\n",
        "    message = message_bytes.decode(\"utf-8\")\n",
        "    return f\"Valid packet, message: {message}\"\n",
        "\n",
        "user_input = input()\n",
        "pkt = build_packet(user_input)\n",
        "print(pkt)\n",
        "result = parse_packet(pkt)\n",
        "print(result)"
      ],
      "metadata": {
        "colab": {
          "base_uri": "https://localhost:8080/"
        },
        "id": "9hwQGpXn3SSr",
        "outputId": "97187967-fb00-4158-e8be-c2a9cc01804f"
      },
      "execution_count": 31,
      "outputs": [
        {
          "output_type": "stream",
          "name": "stdout",
          "text": [
            "test1\n",
            "b'\\x02\\x05test1\\x03'\n",
            "Valid packet, message: test1\n"
          ]
        }
      ]
    },
    {
      "cell_type": "code",
      "source": [
        "with open(\"sample-6s.wav\", \"rb\") as f:\n",
        "    header = f.read(12)\n",
        "\n",
        "print(\"Hex values of WAV header:\")\n",
        "print([hex(b) for b in header])\n",
        "\n",
        "print(\"\\nExplanation:\")\n",
        "print(f\"ChunkID (0-3): {header[0:4]} -> should be b'RIFF'\")\n",
        "print(f\"ChunkSize (4-7): {header[4:8]} -> size of file - 8 bytes\")\n",
        "print(f\"Format (8-11): {header[8:12]} -> should be b'WAVE'\")\n",
        "\n",
        "chunk_id_bytes = header[4:8]\n",
        "chunk_size = int.from_bytes(chunk_size_bytes, byteorder='little')\n",
        "\n",
        "print(f\"ChunkSize in decimal: {chunk_size} bytes\")\n",
        "print(f\"Total file size (ChunkSize + 8): {chunk_size + 8} bytes\")\n"
      ],
      "metadata": {
        "colab": {
          "base_uri": "https://localhost:8080/"
        },
        "id": "5TwAbFhd5glG",
        "outputId": "afa94ea7-5690-40b4-cae8-e20d2c89c19f"
      },
      "execution_count": 32,
      "outputs": [
        {
          "output_type": "stream",
          "name": "stdout",
          "text": [
            "Hex values of WAV header:\n",
            "['0x52', '0x49', '0x46', '0x46', '0x24', '0x34', '0x11', '0x0', '0x57', '0x41', '0x56', '0x45']\n",
            "\n",
            "Explanation:\n",
            "ChunkID (0-3): b'RIFF' -> should be b'RIFF'\n",
            "ChunkSize (4-7): b'$4\\x11\\x00' -> size of file - 8 bytes\n",
            "Format (8-11): b'WAVE' -> should be b'WAVE'\n",
            "ChunkSize in decimal: 1127460 bytes\n",
            "Total file size (ChunkSize + 8): 1127468 bytes\n"
          ]
        }
      ]
    },
    {
      "cell_type": "code",
      "source": [
        "def visualize_escapes(text):\n",
        "\n",
        "  print(f\"Original : {text}\")\n",
        "  print(f\"Repr : {repr(text)}\")\n",
        "  codes=[]\n",
        "\n",
        "  for char in text:\n",
        "    codes.append(ord(char))\n",
        "  print(f\"Codes : {codes}\\n\")\n",
        "\n",
        "\n",
        "string = input();\n",
        "visualize_escapes(\"hi\\n\")\n",
        "visualize_escapes(string)\n",
        ""
      ],
      "metadata": {
        "colab": {
          "base_uri": "https://localhost:8080/"
        },
        "id": "nepPd9fm_7lj",
        "outputId": "944b31f8-19b3-4b91-f1df-93d026ad81f9"
      },
      "execution_count": 33,
      "outputs": [
        {
          "output_type": "stream",
          "name": "stdout",
          "text": [
            "crazy\\t\\thi\\a\n",
            "Original : hi\n",
            "\n",
            "Repr : 'hi\\n'\n",
            "Codes : [104, 105, 10]\n",
            "\n",
            "Original : crazy\\t\\thi\\a\n",
            "Repr : 'crazy\\\\t\\\\thi\\\\a'\n",
            "Codes : [99, 114, 97, 122, 121, 92, 116, 92, 116, 104, 105, 92, 97]\n",
            "\n"
          ]
        }
      ]
    },
    {
      "cell_type": "code",
      "source": [],
      "metadata": {
        "id": "mOeq02iO_fG-"
      },
      "execution_count": 33,
      "outputs": []
    }
  ]
}